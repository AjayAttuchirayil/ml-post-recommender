{
 "cells": [
  {
   "cell_type": "code",
   "execution_count": null,
   "id": "45382db8-c1da-42b9-ae90-1be68da00ded",
   "metadata": {},
   "outputs": [],
   "source": [
    "# 02_feature_engineering.ipynb\n",
    "\n",
    "import pandas as pd\n",
    "import numpy as np\n",
    "from sklearn.feature_extraction.text import TfidfVectorizer\n",
    "\n",
    "# Load data\n",
    "data = pd.read_csv('../data/processed/user_post_interactions.csv')\n",
    "\n",
    "# Feature 1: TF-IDF vectors for post text\n",
    "tfidf = TfidfVectorizer(max_features=100)\n",
    "tfidf_matrix = tfidf.fit_transform(data['text'])\n",
    "\n",
    "tfidf_df = pd.DataFrame(tfidf_matrix.toarray(), columns=tfidf.get_feature_names_out())\n",
    "data = pd.concat([data.reset_index(drop=True), tfidf_df.reset_index(drop=True)], axis=1)\n",
    "\n",
    "# Feature 2: Topic match (binary if user is interested in the post's topic)\n",
    "# Load or simulate user interests (stored in dict format from earlier)\n",
    "import ast\n",
    "user_interests = {}\n",
    "\n",
    "for uid in data['user_id'].unique():\n",
    "    user_interests[uid] = np.random.choice(['tech', 'food', 'travel', 'fitness', 'gaming', 'fashion', 'news'], \n",
    "                                           size=np.random.randint(1, 4), replace=False).tolist()\n",
    "\n",
    "data['topic_match'] = data.apply(lambda row: int(row['topic'] in user_interests[row['user_id']]), axis=1)\n",
    "\n",
    "# Feature 3: Interaction type one-hot encoding (optional)\n",
    "interaction_ohe = pd.get_dummies(data['interaction'], prefix='interact')\n",
    "data = pd.concat([data, interaction_ohe], axis=1)\n",
    "\n",
    "# Drop unused columns\n",
    "features = data.drop(columns=['interaction', 'text', 'post_id', 'user_id'])  # keep label\n",
    "labels = data['label']\n",
    "\n",
    "# Save features and labels\n",
    "features.to_csv('../data/processed/features.csv', index=False)\n",
    "labels.to_csv('../data/processed/labels.csv', index=False)\n",
    "\n",
    "print(\"✅ Feature engineering complete. Saved to processed/\")\n"
   ]
  }
 ],
 "metadata": {
  "kernelspec": {
   "display_name": "Python 3 (ipykernel)",
   "language": "python",
   "name": "python3"
  },
  "language_info": {
   "codemirror_mode": {
    "name": "ipython",
    "version": 3
   },
   "file_extension": ".py",
   "mimetype": "text/x-python",
   "name": "python",
   "nbconvert_exporter": "python",
   "pygments_lexer": "ipython3",
   "version": "3.12.4"
  }
 },
 "nbformat": 4,
 "nbformat_minor": 5
}
